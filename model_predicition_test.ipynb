{
 "cells": [
  {
   "cell_type": "markdown",
   "id": "a2707b79",
   "metadata": {},
   "source": [
    "# Importing Libraries"
   ]
  },
  {
   "cell_type": "code",
   "execution_count": 1,
   "id": "38b7c6ed",
   "metadata": {},
   "outputs": [
    {
     "name": "stdout",
     "output_type": "stream",
     "text": [
      "Requirement already satisfied: audiofile in c:\\users\\asus\\anaconda3\\lib\\site-packages (1.2.1)\n",
      "Requirement already satisfied: audmath>=1.2.1 in c:\\users\\asus\\anaconda3\\lib\\site-packages (from audiofile) (1.2.1)\n",
      "Requirement already satisfied: numpy in c:\\users\\asus\\anaconda3\\lib\\site-packages (from audiofile) (1.21.5)\n",
      "Requirement already satisfied: audeer in c:\\users\\asus\\anaconda3\\lib\\site-packages (from audiofile) (1.20.0)\n",
      "Requirement already satisfied: soundfile in c:\\users\\asus\\anaconda3\\lib\\site-packages (from audiofile) (0.12.1)\n",
      "Requirement already satisfied: tqdm in c:\\users\\asus\\anaconda3\\lib\\site-packages (from audeer->audiofile) (4.64.0)\n",
      "Requirement already satisfied: cffi>=1.0 in c:\\users\\asus\\anaconda3\\lib\\site-packages (from soundfile->audiofile) (1.15.0)\n",
      "Requirement already satisfied: pycparser in c:\\users\\asus\\anaconda3\\lib\\site-packages (from cffi>=1.0->soundfile->audiofile) (2.21)\n",
      "Requirement already satisfied: colorama in c:\\users\\asus\\anaconda3\\lib\\site-packages (from tqdm->audeer->audiofile) (0.4.4)\n"
     ]
    }
   ],
   "source": [
    "from tensorflow.keras.models import load_model\n",
    "import numpy as np\n",
    "import librosa\n",
    "from scipy.io import wavfile\n",
    "!pip install audiofile\n",
    "import audiofile\n",
    "from scipy.signal import butter, filtfilt, lfilter, find_peaks\n",
    "from scipy.fft import fft, fftshift\n",
    "from IPython.display import Audio\n",
    "import soundfile as sf"
   ]
  },
  {
   "cell_type": "markdown",
   "id": "8c628f40",
   "metadata": {},
   "source": [
    "# Preprocessing Functions"
   ]
  },
  {
   "cell_type": "code",
   "execution_count": 2,
   "id": "6bb4fc28",
   "metadata": {},
   "outputs": [],
   "source": [
    "def butter_bandpass(lowcut, highcut, fs, order=5):\n",
    "    nyq = 0.5*fs\n",
    "    low = lowcut/nyq\n",
    "    high = highcut/nyq\n",
    "    b,a = butter(order, [low, high], btype='band')\n",
    "    return b, a\n",
    "\n",
    "# ------------------------------------------------------------------------------\n",
    "def butter_bandpass_filter(data, lowcut, highcut, fs, order=5):\n",
    "  b, a = butter_bandpass(lowcut, highcut, fs, order = order)\n",
    "  y = lfilter(b, a, data)\n",
    "  return y"
   ]
  },
  {
   "cell_type": "code",
   "execution_count": 3,
   "id": "7b883535",
   "metadata": {},
   "outputs": [],
   "source": [
    "def Heart_Lung_Separation(pcg_signal, fs):\n",
    "  pcg_filtered = butter_bandpass_filter(pcg_signal, 20, 2000, fs, order=5)\n",
    "  lung_signal = butter_bandpass_filter(pcg_filtered, 100, 1000, fs, order=5)\n",
    "  heart_signal = pcg_filtered - lung_signal\n",
    "\n",
    "#   # Quality Index of heart signal:\n",
    "#   heart_signal_snr = Heart_SNR(heart_signal, fs)\n",
    "#   heart_quality_ind = Heart_Quality_Index(heart_signal_snr)\n",
    "\n",
    "#   # Quality Index of lung signal:\n",
    "#   lung_signal_snr = Lung_SNR(lung_signal, fs)\n",
    "#   lung_quality_ind = Lung_Quality_Index(lung_signal_snr)\n",
    "#   return [heart_signal, lung_signal, heart_quality_ind, lung_quality_ind]\n",
    "  return [heart_signal, lung_signal]"
   ]
  },
  {
   "cell_type": "code",
   "execution_count": 4,
   "id": "581ca676",
   "metadata": {},
   "outputs": [],
   "source": [
    "# Lowpass Butterworth filter:\n",
    "def butterworth_low_pass_filter(original_signal, order, cutoff, fs):\n",
    "  b, a = butter(order, 2*cutoff/fs, btype = 'low')\n",
    "  low_pass_filtered_signal = filtfilt(b, a, original_signal)\n",
    "  return low_pass_filtered_signal\n",
    "\n",
    "# ------------------------------------------------------------------------------\n",
    "# Highpass Butterworth filter:\n",
    "def butterworth_high_pass_filter(original_signal, order, cutoff, fs):\n",
    "  b, a = butter(order, 2*cutoff/fs, btype = 'high')\n",
    "  high_pass_filtered_signal = filtfilt(b, a, original_signal)\n",
    "  return high_pass_filtered_signal"
   ]
  },
  {
   "cell_type": "code",
   "execution_count": 5,
   "id": "3eb61ba7",
   "metadata": {},
   "outputs": [],
   "source": [
    "def heart_signal_preprocessing(heart_signal, fs):\n",
    "  fc = 100  # Cutoff frequency (Hz)\n",
    "  # Define the order of the filter (higher order provides better attenuation)\n",
    "  order = 4\n",
    "  # Define the normalized cutoff frequency (between 0 and 1, where 1 is the Nyquist frequency)\n",
    "  w = fc / (fs / 2)\n",
    "  b, a = butter(order, w, 'low')\n",
    "  filtered_signal = filtfilt(b, a, heart_signal)\n",
    "  return filtered_signal"
   ]
  },
  {
   "cell_type": "code",
   "execution_count": 6,
   "id": "3e51f302",
   "metadata": {},
   "outputs": [],
   "source": [
    "def lung_signal_preprocessing(lung_signal, fs):\n",
    "  # Define the filter parameters\n",
    "  cutoff = 250 # Hz  100\n",
    "  order = 4\n",
    "  b, a = butter(order, cutoff/(fs/2), btype='highpass')\n",
    "  filtered_signal = filtfilt(b, a, lung_signal)\n",
    "  return filtered_signal"
   ]
  },
  {
   "cell_type": "markdown",
   "id": "cf295a17",
   "metadata": {},
   "source": [
    "## Importing the pretrained models"
   ]
  },
  {
   "cell_type": "code",
   "execution_count": 7,
   "id": "e053dc81",
   "metadata": {},
   "outputs": [],
   "source": [
    "heart_classifier_file_name = 'F:\\HEKIDESK\\My Codes\\Heart_Sound_Classification_Model.h5'\n",
    "heart_classifier_model = load_model(heart_classifier_file_name)\n",
    "lung_classifier_file_name = 'F:\\HEKIDESK\\My Codes\\Lung_Sound_Classification_Model.h5'\n",
    "lung_classifier_model = load_model(lung_classifier_file_name)"
   ]
  },
  {
   "cell_type": "markdown",
   "id": "7bf0270f",
   "metadata": {},
   "source": [
    "## Prediction"
   ]
  },
  {
   "cell_type": "code",
   "execution_count": 8,
   "id": "4174096d",
   "metadata": {},
   "outputs": [],
   "source": [
    "def Heart_Class_Prediction (signal, fs):\n",
    "    classes = [\"murmur\",\"normal\"]\n",
    "    signal = np.array(np.float32(signal))\n",
    "    mfccs = np.mean(librosa.feature.mfcc(y=signal, sr=fs, n_mfcc=52, n_fft=512, hop_length=2048).T,axis=0)\n",
    "#     feature = np.array(mfccs).reshape([-1,1])\n",
    "    preds = heart_classifier_model.predict(mfccs.reshape(1,52,1))\n",
    "    confidence = np.amax(preds)\n",
    "    prediction = classes[np.argmax(preds)]\n",
    "    return prediction, confidence \n",
    "\n",
    "## -------------------------------------------------------------------------------------------------------------\n",
    "def Lung_Class_Prediction(signal, fs):\n",
    "    classes = [\"normal\",\"crackle\",\"wheezes\"]\n",
    "    signal = np.array(np.float32(signal))\n",
    "    mfccs = np.mean(librosa.feature.mfcc(y=signal, sr=fs, n_mfcc=52, n_fft=512,hop_length=2048).T,axis=0)\n",
    "#     feature = np.array(mfccs).reshape([-1,1])\n",
    "    preds = lung_classifier_model.predict(mfccs.reshape(1,52,1))\n",
    "    print(preds)\n",
    "    \n",
    "    confidence = np.amax(preds)\n",
    "    prediction = classes[np.argmax(preds)]\n",
    "    return prediction, confidence "
   ]
  },
  {
   "cell_type": "markdown",
   "id": "a5adf3d9",
   "metadata": {},
   "source": [
    "## Testing the model"
   ]
  },
  {
   "cell_type": "code",
   "execution_count": 9,
   "id": "59d8e24b",
   "metadata": {},
   "outputs": [
    {
     "name": "stdout",
     "output_type": "stream",
     "text": [
      "1/1 [==============================] - 2s 2s/step\n",
      "Heart sound class predicted is:  murmur\n",
      "Heart sound class is predicted with  0.9999018 % confidence.\n"
     ]
    }
   ],
   "source": [
    "with open('pcg_15.txt') as fid:\n",
    "    data = fid.readlines()\n",
    "\n",
    "new_data = list(map(lambda s: s.strip(), data))\n",
    "new_data.remove('[')\n",
    "new_data.remove(']')\n",
    "\n",
    "for i in range(len(new_data)):\n",
    "    new_data[i] = new_data[i].replace(',', '')\n",
    "\n",
    "sound_signal = list(map(int, new_data))\n",
    "fs = int(np.floor(len(sound_signal)/20))\n",
    "heart_signal, lung_signal = Heart_Lung_Separation(sound_signal, fs)\n",
    "heart_signal = heart_signal_preprocessing(heart_signal, fs)\n",
    "lung_signal = lung_signal_preprocessing(lung_signal, fs)\n",
    "\n",
    "heart_prediction, heart_confidence = Heart_Class_Prediction (heart_signal, fs)\n",
    "print('Heart sound class predicted is: ', heart_prediction)\n",
    "print('Heart sound class is predicted with ', heart_confidence, '% confidence.')"
   ]
  },
  {
   "cell_type": "code",
   "execution_count": 10,
   "id": "4de844de",
   "metadata": {},
   "outputs": [
    {
     "ename": "ValueError",
     "evalue": "in user code:\n\n    File \"C:\\Users\\Asus\\anaconda3\\lib\\site-packages\\keras\\engine\\training.py\", line 2137, in predict_function  *\n        return step_function(self, iterator)\n    File \"C:\\Users\\Asus\\anaconda3\\lib\\site-packages\\keras\\engine\\training.py\", line 2123, in step_function  **\n        outputs = model.distribute_strategy.run(run_step, args=(data,))\n    File \"C:\\Users\\Asus\\anaconda3\\lib\\site-packages\\keras\\engine\\training.py\", line 2111, in run_step  **\n        outputs = model.predict_step(data)\n    File \"C:\\Users\\Asus\\anaconda3\\lib\\site-packages\\keras\\engine\\training.py\", line 2079, in predict_step\n        return self(x, training=False)\n    File \"C:\\Users\\Asus\\anaconda3\\lib\\site-packages\\keras\\utils\\traceback_utils.py\", line 70, in error_handler\n        raise e.with_traceback(filtered_tb) from None\n    File \"C:\\Users\\Asus\\anaconda3\\lib\\site-packages\\keras\\engine\\input_spec.py\", line 295, in assert_input_compatibility\n        raise ValueError(\n\n    ValueError: Input 0 of layer \"sequential\" is incompatible with the layer: expected shape=(None, 50, 245, 1), found shape=(None, 52, 1)\n",
     "output_type": "error",
     "traceback": [
      "\u001b[1;31m---------------------------------------------------------------------------\u001b[0m",
      "\u001b[1;31mValueError\u001b[0m                                Traceback (most recent call last)",
      "Input \u001b[1;32mIn [10]\u001b[0m, in \u001b[0;36m<cell line: 1>\u001b[1;34m()\u001b[0m\n\u001b[1;32m----> 1\u001b[0m lung_prediction, lung_confidence \u001b[38;5;241m=\u001b[39m \u001b[43mLung_Class_Prediction\u001b[49m\u001b[43m \u001b[49m\u001b[43m(\u001b[49m\u001b[43mlung_signal\u001b[49m\u001b[43m,\u001b[49m\u001b[43m \u001b[49m\u001b[43mfs\u001b[49m\u001b[43m)\u001b[49m\n\u001b[0;32m      2\u001b[0m \u001b[38;5;28mprint\u001b[39m(\u001b[38;5;124m'\u001b[39m\u001b[38;5;124mLung sound class predicted is: \u001b[39m\u001b[38;5;124m'\u001b[39m, lung_prediction)\n\u001b[0;32m      3\u001b[0m \u001b[38;5;28mprint\u001b[39m(\u001b[38;5;124m'\u001b[39m\u001b[38;5;124mLung sound class is predicted with \u001b[39m\u001b[38;5;124m'\u001b[39m, lung_confidence, \u001b[38;5;124m'\u001b[39m\u001b[38;5;132;01m% c\u001b[39;00m\u001b[38;5;124monfidence.\u001b[39m\u001b[38;5;124m'\u001b[39m)\n",
      "Input \u001b[1;32mIn [8]\u001b[0m, in \u001b[0;36mLung_Class_Prediction\u001b[1;34m(signal, fs)\u001b[0m\n\u001b[0;32m     15\u001b[0m     mfccs \u001b[38;5;241m=\u001b[39m np\u001b[38;5;241m.\u001b[39mmean(librosa\u001b[38;5;241m.\u001b[39mfeature\u001b[38;5;241m.\u001b[39mmfcc(y\u001b[38;5;241m=\u001b[39msignal, sr\u001b[38;5;241m=\u001b[39mfs, n_mfcc\u001b[38;5;241m=\u001b[39m\u001b[38;5;241m52\u001b[39m, n_fft\u001b[38;5;241m=\u001b[39m\u001b[38;5;241m512\u001b[39m,hop_length\u001b[38;5;241m=\u001b[39m\u001b[38;5;241m2048\u001b[39m)\u001b[38;5;241m.\u001b[39mT,axis\u001b[38;5;241m=\u001b[39m\u001b[38;5;241m0\u001b[39m)\n\u001b[0;32m     16\u001b[0m \u001b[38;5;66;03m#     feature = np.array(mfccs).reshape([-1,1])\u001b[39;00m\n\u001b[1;32m---> 17\u001b[0m     preds \u001b[38;5;241m=\u001b[39m \u001b[43mlung_classifier_model\u001b[49m\u001b[38;5;241;43m.\u001b[39;49m\u001b[43mpredict\u001b[49m\u001b[43m(\u001b[49m\u001b[43mmfccs\u001b[49m\u001b[38;5;241;43m.\u001b[39;49m\u001b[43mreshape\u001b[49m\u001b[43m(\u001b[49m\u001b[38;5;241;43m1\u001b[39;49m\u001b[43m,\u001b[49m\u001b[38;5;241;43m52\u001b[39;49m\u001b[43m,\u001b[49m\u001b[38;5;241;43m1\u001b[39;49m\u001b[43m)\u001b[49m\u001b[43m)\u001b[49m\n\u001b[0;32m     18\u001b[0m     \u001b[38;5;28mprint\u001b[39m(preds)\n\u001b[0;32m     20\u001b[0m     confidence \u001b[38;5;241m=\u001b[39m np\u001b[38;5;241m.\u001b[39mamax(preds)\n",
      "File \u001b[1;32m~\\anaconda3\\lib\\site-packages\\keras\\utils\\traceback_utils.py:70\u001b[0m, in \u001b[0;36mfilter_traceback.<locals>.error_handler\u001b[1;34m(*args, **kwargs)\u001b[0m\n\u001b[0;32m     67\u001b[0m     filtered_tb \u001b[38;5;241m=\u001b[39m _process_traceback_frames(e\u001b[38;5;241m.\u001b[39m__traceback__)\n\u001b[0;32m     68\u001b[0m     \u001b[38;5;66;03m# To get the full stack trace, call:\u001b[39;00m\n\u001b[0;32m     69\u001b[0m     \u001b[38;5;66;03m# `tf.debugging.disable_traceback_filtering()`\u001b[39;00m\n\u001b[1;32m---> 70\u001b[0m     \u001b[38;5;28;01mraise\u001b[39;00m e\u001b[38;5;241m.\u001b[39mwith_traceback(filtered_tb) \u001b[38;5;28;01mfrom\u001b[39;00m \u001b[38;5;28mNone\u001b[39m\n\u001b[0;32m     71\u001b[0m \u001b[38;5;28;01mfinally\u001b[39;00m:\n\u001b[0;32m     72\u001b[0m     \u001b[38;5;28;01mdel\u001b[39;00m filtered_tb\n",
      "File \u001b[1;32m~\\AppData\\Local\\Temp\\__autograph_generated_fileb3m9r1tu.py:15\u001b[0m, in \u001b[0;36mouter_factory.<locals>.inner_factory.<locals>.tf__predict_function\u001b[1;34m(iterator)\u001b[0m\n\u001b[0;32m     13\u001b[0m \u001b[38;5;28;01mtry\u001b[39;00m:\n\u001b[0;32m     14\u001b[0m     do_return \u001b[38;5;241m=\u001b[39m \u001b[38;5;28;01mTrue\u001b[39;00m\n\u001b[1;32m---> 15\u001b[0m     retval_ \u001b[38;5;241m=\u001b[39m ag__\u001b[38;5;241m.\u001b[39mconverted_call(ag__\u001b[38;5;241m.\u001b[39mld(step_function), (ag__\u001b[38;5;241m.\u001b[39mld(\u001b[38;5;28mself\u001b[39m), ag__\u001b[38;5;241m.\u001b[39mld(iterator)), \u001b[38;5;28;01mNone\u001b[39;00m, fscope)\n\u001b[0;32m     16\u001b[0m \u001b[38;5;28;01mexcept\u001b[39;00m:\n\u001b[0;32m     17\u001b[0m     do_return \u001b[38;5;241m=\u001b[39m \u001b[38;5;28;01mFalse\u001b[39;00m\n",
      "\u001b[1;31mValueError\u001b[0m: in user code:\n\n    File \"C:\\Users\\Asus\\anaconda3\\lib\\site-packages\\keras\\engine\\training.py\", line 2137, in predict_function  *\n        return step_function(self, iterator)\n    File \"C:\\Users\\Asus\\anaconda3\\lib\\site-packages\\keras\\engine\\training.py\", line 2123, in step_function  **\n        outputs = model.distribute_strategy.run(run_step, args=(data,))\n    File \"C:\\Users\\Asus\\anaconda3\\lib\\site-packages\\keras\\engine\\training.py\", line 2111, in run_step  **\n        outputs = model.predict_step(data)\n    File \"C:\\Users\\Asus\\anaconda3\\lib\\site-packages\\keras\\engine\\training.py\", line 2079, in predict_step\n        return self(x, training=False)\n    File \"C:\\Users\\Asus\\anaconda3\\lib\\site-packages\\keras\\utils\\traceback_utils.py\", line 70, in error_handler\n        raise e.with_traceback(filtered_tb) from None\n    File \"C:\\Users\\Asus\\anaconda3\\lib\\site-packages\\keras\\engine\\input_spec.py\", line 295, in assert_input_compatibility\n        raise ValueError(\n\n    ValueError: Input 0 of layer \"sequential\" is incompatible with the layer: expected shape=(None, 50, 245, 1), found shape=(None, 52, 1)\n"
     ]
    }
   ],
   "source": [
    "lung_prediction, lung_confidence = Lung_Class_Prediction (lung_signal, fs)\n",
    "print('Lung sound class predicted is: ', lung_prediction)\n",
    "print('Lung sound class is predicted with ', lung_confidence, '% confidence.')"
   ]
  }
 ],
 "metadata": {
  "kernelspec": {
   "display_name": "Python 3 (ipykernel)",
   "language": "python",
   "name": "python3"
  },
  "language_info": {
   "codemirror_mode": {
    "name": "ipython",
    "version": 3
   },
   "file_extension": ".py",
   "mimetype": "text/x-python",
   "name": "python",
   "nbconvert_exporter": "python",
   "pygments_lexer": "ipython3",
   "version": "3.9.12"
  }
 },
 "nbformat": 4,
 "nbformat_minor": 5
}
