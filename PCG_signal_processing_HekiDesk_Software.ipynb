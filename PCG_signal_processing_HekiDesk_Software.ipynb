{
 "cells": [
  {
   "cell_type": "markdown",
   "metadata": {
    "id": "vgA3h0WMmlPf"
   },
   "source": [
    "## **Importing Packages**"
   ]
  },
  {
   "cell_type": "code",
   "execution_count": 1,
   "metadata": {
    "colab": {
     "base_uri": "https://localhost:8080/"
    },
    "id": "53i4OHbxk5my",
    "outputId": "71d95c14-321a-4832-83fb-c4330c718dea"
   },
   "outputs": [
    {
     "name": "stdout",
     "output_type": "stream",
     "text": [
      "Looking in indexes: https://pypi.org/simple, https://us-python.pkg.dev/colab-wheels/public/simple/\n",
      "Collecting audiofile\n",
      "  Downloading audiofile-1.2.1-py3-none-any.whl (14 kB)\n",
      "Collecting audmath>=1.2.1\n",
      "  Downloading audmath-1.2.1-py3-none-any.whl (10 kB)\n",
      "Collecting audeer\n",
      "  Downloading audeer-1.19.0-py3-none-any.whl (20 kB)\n",
      "Requirement already satisfied: numpy in /usr/local/lib/python3.9/dist-packages (from audiofile) (1.22.4)\n",
      "Requirement already satisfied: soundfile in /usr/local/lib/python3.9/dist-packages (from audiofile) (0.12.1)\n",
      "Requirement already satisfied: tqdm in /usr/local/lib/python3.9/dist-packages (from audeer->audiofile) (4.65.0)\n",
      "Requirement already satisfied: cffi>=1.0 in /usr/local/lib/python3.9/dist-packages (from soundfile->audiofile) (1.15.1)\n",
      "Requirement already satisfied: pycparser in /usr/local/lib/python3.9/dist-packages (from cffi>=1.0->soundfile->audiofile) (2.21)\n",
      "Installing collected packages: audmath, audeer, audiofile\n",
      "Successfully installed audeer-1.19.0 audiofile-1.2.1 audmath-1.2.1\n"
     ]
    }
   ],
   "source": [
    "from scipy.io import wavfile\n",
    "!pip install audiofile\n",
    "import audiofile\n",
    "from scipy.signal import butter, filtfilt, lfilter, find_peaks\n",
    "from scipy.fft import fft, fftshift\n",
    "import numpy as np\n",
    "from IPython.display import Audio\n",
    "import soundfile as sf"
   ]
  },
  {
   "cell_type": "markdown",
   "metadata": {
    "id": "VpbaoxVyAXdF"
   },
   "source": [
    "## **Functions**"
   ]
  },
  {
   "cell_type": "markdown",
   "metadata": {
    "id": "emR5pKgoR0LW"
   },
   "source": [
    "## **Heart & Lung Sound Signal Separation**"
   ]
  },
  {
   "cell_type": "code",
   "execution_count": 2,
   "metadata": {
    "id": "iZcM1CYWRztr"
   },
   "outputs": [],
   "source": [
    "def butter_bandpass(lowcut, highcut, fs, order=5):\n",
    "    nyq = 0.5*fs\n",
    "    low = lowcut/nyq\n",
    "    high = highcut/nyq\n",
    "    b,a = butter(order, [low, high], btype='band')\n",
    "    return b, a\n",
    "\n",
    "# ------------------------------------------------------------------------------\n",
    "def butter_bandpass_filter(data, lowcut, highcut, fs, order=5):\n",
    "  b, a = butter_bandpass(lowcut, highcut, fs, order = order)\n",
    "  y = lfilter(b, a, data)\n",
    "  return y"
   ]
  },
  {
   "cell_type": "code",
   "execution_count": 3,
   "metadata": {
    "id": "UATIWyPcSPht"
   },
   "outputs": [],
   "source": [
    "def Heart_Lung_Separation(pcg_signal, fs):\n",
    "  pcg_filtered = butter_bandpass_filter(pcg_signal, 20, 2000, fs, order=5)\n",
    "  lung_signal = butter_bandpass_filter(pcg_filtered, 100, 1000, fs, order=5)\n",
    "  heart_signal = pcg_filtered - lung_signal\n",
    "\n",
    "  # Quality Index of heart signal:\n",
    "  heart_signal_snr = Heart_SNR(heart_signal, fs)\n",
    "  heart_quality_ind = Heart_Quality_Index(heart_signal_snr)\n",
    "\n",
    "  # Quality Index of lung signal:\n",
    "  lung_signal_snr = Lung_SNR(lung_signal, fs)\n",
    "  lung_quality_ind = Lung_Quality_Index(lung_signal_snr)\n",
    "  return [pcg_filtered, heart_signal, lung_signal, heart_quality_ind, lung_quality_ind]"
   ]
  },
  {
   "cell_type": "markdown",
   "metadata": {
    "id": "FdP3e_G_V-xH"
   },
   "source": [
    "## **Quality Index**"
   ]
  },
  {
   "cell_type": "code",
   "execution_count": 4,
   "metadata": {
    "id": "TGitbnpYWBl2"
   },
   "outputs": [],
   "source": [
    "def Lung_SNR(signal, fs):\n",
    "  FFT = abs(fftshift(fft(signal)))\n",
    "  f = np.arange(0,fs/2,fs/len(FFT))\n",
    "  FFT = (FFT[int(len(FFT)/2):])\n",
    "  ind = [index for index,value in enumerate(f) if value > 50 and value < 2500]\n",
    "  s1_list = [FFT[i] for i in ind]\n",
    "  s2_list = np.delete(FFT, ind)\n",
    "  S1 = sum(s1_list)\n",
    "  S2 = sum(s2_list)\n",
    "  snr = S1/S2\n",
    "\n",
    "  print(' lung SNR: ', snr)\n",
    "  return snr\n",
    "\n",
    "# ------------------------------------------------------------------------------\n",
    "def Heart_SNR(signal, fs):\n",
    "  FFT = abs(fftshift(fft(signal)))\n",
    "  f = np.arange(0,fs/2,fs/len(FFT))\n",
    "  FFT = (FFT[int(len(FFT)/2):])\n",
    "  ind = [index for index,value in enumerate(f) if value > 20 and value < 1200]\n",
    "  s1_list = [FFT[i] for i in ind]\n",
    "  s2_list = np.delete(FFT, ind)\n",
    "  S1 = sum(s1_list)\n",
    "  S2 = sum(s2_list)\n",
    "  snr = S1/S2\n",
    "\n",
    "  print(' heart SNR: ', snr)\n",
    "  return snr\n",
    "\n",
    "# ------------------------------------------------------------------------------\n",
    "def Lung_Quality_Index(snr):\n",
    "  max_snr = 25\n",
    "  if snr > max_snr:\n",
    "    quality_ind = 100\n",
    "  elif snr < max_snr:\n",
    "    quality_ind = snr*100/max_snr\n",
    "  return quality_ind\n",
    "\n",
    "# ------------------------------------------------------------------------------\n",
    "def Heart_Quality_Index(snr):\n",
    "  max_snr = 8\n",
    "  if snr > max_snr:\n",
    "    quality_ind = 100\n",
    "  elif snr < max_snr:\n",
    "    quality_ind = snr*100/max_snr\n",
    "  return quality_ind"
   ]
  },
  {
   "cell_type": "markdown",
   "metadata": {
    "id": "EgqPCdcunNje"
   },
   "source": [
    "### **Butterworth Lowpass and Highpass Filter**\n",
    "\n"
   ]
  },
  {
   "cell_type": "code",
   "execution_count": 5,
   "metadata": {
    "id": "31rEjO_VnPLH"
   },
   "outputs": [],
   "source": [
    "# Lowpass Butterworth filter:\n",
    "def butterworth_low_pass_filter(original_signal, order, cutoff, fs):\n",
    "  b, a = butter(order, 2*cutoff/fs, btype = 'low')\n",
    "  low_pass_filtered_signal = filtfilt(b, a, original_signal)\n",
    "  return low_pass_filtered_signal\n",
    "\n",
    "# ------------------------------------------------------------------------------\n",
    "# Highpass Butterworth filter:\n",
    "def butterworth_high_pass_filter(original_signal, order, cutoff, fs):\n",
    "  b, a = butter(order, 2*cutoff/fs, btype = 'high')\n",
    "  high_pass_filtered_signal = filtfilt(b, a, original_signal)\n",
    "  return high_pass_filtered_signal"
   ]
  },
  {
   "cell_type": "markdown",
   "metadata": {
    "id": "Gtf_BohuXwqI"
   },
   "source": [
    "## **Heart Signal Preprocessing**"
   ]
  },
  {
   "cell_type": "code",
   "execution_count": 7,
   "metadata": {
    "id": "Q90zVSFKX1gK"
   },
   "outputs": [],
   "source": [
    "def heart_signal_preprocessing(heart_signal, fs):\n",
    "  fc = 100  # Cutoff frequency (Hz)\n",
    "  # Define the order of the filter (higher order provides better attenuation)\n",
    "  order = 4\n",
    "  # Define the normalized cutoff frequency (between 0 and 1, where 1 is the Nyquist frequency)\n",
    "  w = fc / (fs / 2)\n",
    "  b, a = butter(order, w, 'low')\n",
    "  filtered_signal = filtfilt(b, a, heart_signal)\n",
    "  return filtered_signal"
   ]
  },
  {
   "cell_type": "markdown",
   "metadata": {
    "id": "196renNDH73d"
   },
   "source": [
    "## **Homomorphic Envelope with Hilbert Transform**"
   ]
  },
  {
   "cell_type": "code",
   "execution_count": 8,
   "metadata": {
    "id": "04h_zAcwIAlV"
   },
   "outputs": [],
   "source": [
    "from scipy.signal import hilbert\n",
    "\n",
    "def Homomorphic_Envelope_with_Hilbert(input_signal, fs, lpf_frequency):\n",
    "  # 8Hz, 1st order, Butterworth LPF\n",
    "  B_low, A_low = butter(1, 2*lpf_frequency/fs, btype = 'low')\n",
    "\n",
    "  homomorphic_envelope = np.exp(filtfilt(B_low, A_low, np.log(abs(hilbert(input_signal)))))\n",
    "\n",
    "  # Remove spurious spikes in first sample:\n",
    "  homomorphic_envelope[0] = homomorphic_envelope[1]\n",
    "  return homomorphic_envelope"
   ]
  },
  {
   "cell_type": "markdown",
   "metadata": {
    "id": "9vaCZxwL4JW-"
   },
   "source": [
    "## **Heart Rate**"
   ]
  },
  {
   "cell_type": "code",
   "execution_count": 9,
   "metadata": {
    "id": "TedRj_xw4TR4"
   },
   "outputs": [],
   "source": [
    "def HeartRate(data, fs):\n",
    "  preprocessed_data = heart_signal_preprocessing(data, fs)\n",
    "  # Find the homomorphic envelope\n",
    "  homomorphic_envelope = Homomorphic_Envelope_with_Hilbert(preprocessed_data, fs, 8)\n",
    "  # Find the autocorrelation:\n",
    "  y = homomorphic_envelope-np.mean(homomorphic_envelope)\n",
    "  lags, c = xcorr(y, y, detrend = False, maxlags = len(y)-1)\n",
    "  signal_autocorrelation = c[len(homomorphic_envelope):]\n",
    "\n",
    "  min_index = int(0.5*fs)\n",
    "  max_index = 2*fs\n",
    "\n",
    "  index = np.argmax(signal_autocorrelation[min_index-1:max_index])\n",
    "  true_index = index+min_index-1\n",
    "\n",
    "  heartRate = 60/(true_index/fs)\n",
    "  return round(heartRate), preprocessed_data\n",
    "\n",
    "## -----------------------------------------------------------------------------\n",
    "def xcorr(x, y, normed = True, detrend = False, maxlags = 10):\n",
    "    # Cross correlation of two signals of equal length\n",
    "    # Returns the coefficients when normed=True\n",
    "    # Returns inner products when normed=False\n",
    "    # Usage: lags, c = xcorr(x,y,maxlags=len(x)-1)\n",
    "    # Optional detrending e.g. mlab.detrend_mean\n",
    "\n",
    "    Nx = len(x)\n",
    "    if Nx != len(y):\n",
    "        raise ValueError('x and y must be equal length')\n",
    "    \n",
    "    if detrend:\n",
    "        import matplotlib.mlab as mlab\n",
    "        x = mlab.detrend_mean(np.asarray(x)) # can set your preferences here\n",
    "        y = mlab.detrend_mean(np.asarray(y))\n",
    "    \n",
    "    c = np.correlate(x, y, mode='full')\n",
    "\n",
    "    if normed:\n",
    "        n = np.sqrt(np.dot(x, x) * np.dot(y, y)) # this is the transformation function\n",
    "        c = np.true_divide(c,n)\n",
    "\n",
    "    if maxlags is None:\n",
    "        maxlags = Nx - 1\n",
    "\n",
    "    if maxlags >= Nx or maxlags < 1:\n",
    "        raise ValueError('maglags must be None or strictly '\n",
    "                         'positive < %d' % Nx)\n",
    "\n",
    "    lags = np.arange(-maxlags, maxlags + 1)\n",
    "    c = c[Nx - 1 - maxlags:Nx + maxlags]\n",
    "    return lags, c"
   ]
  },
  {
   "cell_type": "markdown",
   "metadata": {
    "id": "Onu66HDGP7b9"
   },
   "source": [
    "## **Lung Signal Preprocessing**"
   ]
  },
  {
   "cell_type": "code",
   "execution_count": 10,
   "metadata": {
    "id": "OZ2TbXSRP9tg"
   },
   "outputs": [],
   "source": [
    "def lung_signal_preprocessing(lung_signal, fs):\n",
    "  # Define the filter parameters\n",
    "  cutoff = 250 # Hz  100\n",
    "  order = 4\n",
    "  # Create a Butterworth high-pass filter\n",
    "  b, a = butter(order, cutoff/(fs/2), btype='highpass')\n",
    "  # Apply the filter to the signal\n",
    "  filtered_signal = filtfilt(b, a, lung_signal)\n",
    "  return filtered_signal"
   ]
  },
  {
   "cell_type": "markdown",
   "metadata": {
    "id": "K3XE4TXYkv96"
   },
   "source": [
    "## **Respiration Rate**"
   ]
  },
  {
   "cell_type": "code",
   "execution_count": 11,
   "metadata": {
    "id": "ktw5sD3Tk7Rw"
   },
   "outputs": [],
   "source": [
    "def Respiration_Rate(signal, fs):\n",
    "  preprocessed_data = lung_signal_preprocessing(signal, fs)\n",
    "  one_breath = 3*fs  # average duration of one breath is 3s \n",
    "  peaks, _ = find_peaks(signal, distance = one_breath)\n",
    "  time = len(signal)/fs\n",
    "  RR = len(peaks)*60/time\n",
    "  return round(RR), preprocessed_data"
   ]
  },
  {
   "cell_type": "markdown",
   "metadata": {
    "id": "Rnle4WIHTnYW"
   },
   "source": [
    "# **Final Functions for Software Implementation**"
   ]
  },
  {
   "cell_type": "code",
   "execution_count": 12,
   "metadata": {
    "id": "xuDcNlJq-sJQ"
   },
   "outputs": [],
   "source": [
    "def Processes_in_Heart_Position(pcg_signal, fs):\n",
    "    pcg_filtered, heart_signal, lung_signal, heart_quality_ind, lung_quality_ind = Heart_Lung_Separation(pcg_signal, fs)\n",
    "    heart_rate, filtered_heart_signal = HeartRate(heart_signal, fs)\n",
    "    respiration_rate, filtered_lung_signal = Respiration_Rate(lung_signal, fs)\n",
    "    return pcg_filtered, heart_signal, filtered_heart_signal, lung_signal, filtered_lung_signal, heart_quality_ind, lung_quality_ind, heart_rate, respiration_rate"
   ]
  },
  {
   "cell_type": "code",
   "execution_count": 13,
   "metadata": {
    "id": "arm2v2x_Cc3P"
   },
   "outputs": [],
   "source": [
    "def Processes_in_Optional_Position(pcg_signal, fs):\n",
    "    pcg_filtered, heart_signal, lung_signal, heart_quality_ind, lung_quality_ind = Heart_Lung_Separation(pcg_signal, fs)\n",
    "    filtered_heart_signal = heart_signal_preprocessing(heart_signal, fs)\n",
    "    filtered_lung_signal = lung_signal_preprocessing(lung_signal, fs)\n",
    "    return pcg_filtered, heart_signal, filtered_heart_signal, lung_signal, filtered_lung_signal, heart_quality_ind, lung_quality_ind"
   ]
  }
 ],
 "metadata": {
  "colab": {
   "provenance": []
  },
  "kernelspec": {
   "display_name": "Python 3 (ipykernel)",
   "language": "python",
   "name": "python3"
  },
  "language_info": {
   "codemirror_mode": {
    "name": "ipython",
    "version": 3
   },
   "file_extension": ".py",
   "mimetype": "text/x-python",
   "name": "python",
   "nbconvert_exporter": "python",
   "pygments_lexer": "ipython3",
   "version": "3.9.12"
  }
 },
 "nbformat": 4,
 "nbformat_minor": 1
}
